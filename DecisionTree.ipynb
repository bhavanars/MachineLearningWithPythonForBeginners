{
 "cells": [
  {
   "cell_type": "code",
   "execution_count": 36,
   "metadata": {},
   "outputs": [
    {
     "name": "stdout",
     "output_type": "stream",
     "text": [
      "cannot play!\n"
     ]
    }
   ],
   "source": [
    "#problem of predicting weather to play football or not\n",
    "weather = ['sunny' , 'rainy' , 'windy' ]  #taking feature of weather\n",
    "temperature = [ 'hot' , 'cold' , 'humidity'] #taking feautures of temperature\n",
    "statement = 'today it is sunny outside. the weather has high humidity'\n",
    "bag_of_words = statement.split(' ')  #creating bag of words\n",
    "feature_weather = [ ]\n",
    "feature_temperature = [ ]\n",
    "for x in bag_of_words:\n",
    "    for y in temperature:\n",
    "        if x == y:\n",
    "            feature_temperature = feature_temperature + [x]  #feature extraction for temperature\n",
    "for x in bag_of_words:\n",
    "    for y in weather:\n",
    "        if x == y:\n",
    "            feature_weather = feature_weather + [x]          #feature extraction for weather    \n",
    "for x in feature_temperature:\n",
    "     for y in feature_weather:\n",
    "            if y == 'sunny':\n",
    "               if x == 'hot' or x == 'humidity':\n",
    "                    print('cannot play!')\n",
    "               elif x == 'windy':\n",
    "                    print('play!')\n",
    "        \n",
    "      \n",
    "           "
   ]
  },
  {
   "cell_type": "code",
   "execution_count": null,
   "metadata": {},
   "outputs": [],
   "source": []
  }
 ],
 "metadata": {
  "kernelspec": {
   "display_name": "Python 3",
   "language": "python",
   "name": "python3"
  },
  "language_info": {
   "codemirror_mode": {
    "name": "ipython",
    "version": 3
   },
   "file_extension": ".py",
   "mimetype": "text/x-python",
   "name": "python",
   "nbconvert_exporter": "python",
   "pygments_lexer": "ipython3",
   "version": "3.6.4"
  }
 },
 "nbformat": 4,
 "nbformat_minor": 2
}
