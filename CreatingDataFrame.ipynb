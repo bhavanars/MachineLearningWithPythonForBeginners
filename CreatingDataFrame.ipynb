{
 "cells": [
  {
   "cell_type": "code",
   "execution_count": 4,
   "metadata": {},
   "outputs": [
    {
     "name": "stdout",
     "output_type": "stream",
     "text": [
      "  sentiment                                          statement\n",
      "0   neutral  The project completed successfuly but we could...\n",
      "1  positive              we got five star! it is a great news.\n",
      "2  negative              this is sad to know that he got fired\n",
      "3  positive                            wow!! i got a promotion\n",
      "4  negative                         it is horrible explanation\n",
      "5   neutral                              I am ok with his work\n"
     ]
    }
   ],
   "source": [
    "import pandas as pd  # import pandas library \n",
    "import numpy as np  # import numpy libraries\n",
    "statement_corpus = ['The project completed successfuly but we could have done better',\n",
    "                     'we got five star! it is a great news.',\n",
    "                      'this is sad to know that he got fired',\n",
    "                       'wow!! i got a promotion',               # prepare a tiny corpus \n",
    "                      'it is horrible explanation',\n",
    "                       'I am ok with his work' ]   \n",
    "labels = ['neutral', 'positive', 'negative', 'positive', 'negative', 'neutral']  # labelling sentiments as positive , negative or neutral\n",
    "corpus = np.array(statement_corpus)  # converting corpus into arrays\n",
    "corpus_df = pd.DataFrame({'statement': corpus, 'sentiment': labels})  # creating data frame using pandas libraries\n",
    "print(corpus_df)\n"
   ]
  },
  {
   "cell_type": "code",
   "execution_count": null,
   "metadata": {},
   "outputs": [],
   "source": []
  }
 ],
 "metadata": {
  "kernelspec": {
   "display_name": "Python 3",
   "language": "python",
   "name": "python3"
  },
  "language_info": {
   "codemirror_mode": {
    "name": "ipython",
    "version": 3
   },
   "file_extension": ".py",
   "mimetype": "text/x-python",
   "name": "python",
   "nbconvert_exporter": "python",
   "pygments_lexer": "ipython3",
   "version": "3.6.4"
  }
 },
 "nbformat": 4,
 "nbformat_minor": 2
}
